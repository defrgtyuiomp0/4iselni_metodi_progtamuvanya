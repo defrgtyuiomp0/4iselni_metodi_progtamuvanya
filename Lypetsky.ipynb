{
  "nbformat": 4,
  "nbformat_minor": 0,
  "metadata": {
    "colab": {
      "provenance": [],
      "include_colab_link": true
    },
    "kernelspec": {
      "name": "python3",
      "display_name": "Python 3"
    },
    "language_info": {
      "name": "python"
    }
  },
  "cells": [
    {
      "cell_type": "markdown",
      "metadata": {
        "id": "view-in-github",
        "colab_type": "text"
      },
      "source": [
        "<a href=\"https://colab.research.google.com/github/defrgtyuiomp0/4iselni_metodi_progtamuvanya/blob/main/Lypetsky.ipynb\" target=\"_parent\"><img src=\"https://colab.research.google.com/assets/colab-badge.svg\" alt=\"Open In Colab\"/></a>"
      ]
    },
    {
      "cell_type": "markdown",
      "source": [
        "Створіть одновимірний масив (вектор) зі зростаючою геометричною прогресією, де кожне наступне число більше попереднього в 2 рази, починаючи з 2, та виведіть його значення."
      ],
      "metadata": {
        "id": "z3JKyYnwP8rr"
      }
    },
    {
      "cell_type": "code",
      "execution_count": null,
      "metadata": {
        "colab": {
          "base_uri": "https://localhost:8080/"
        },
        "id": "nZelV6VRPb-2",
        "outputId": "9bf33e49-93b4-4557-89fe-d70e2415155e"
      },
      "outputs": [
        {
          "output_type": "stream",
          "name": "stdout",
          "text": [
            "Масив геометричної прогресії:\n",
            "[2, 4, 8, 16, 32, 64, 128, 256, 512, 1024]\n"
          ]
        }
      ],
      "source": [
        "\n",
        "n = 10\n",
        "\n",
        "arr = [2 * (2**i) for i in range(n)]\n",
        "\n",
        "print(\"Масив геометричної прогресії:\")\n",
        "print(arr)"
      ]
    },
    {
      "cell_type": "markdown",
      "source": [
        "Створіть двовимірний масив (матрицю) розміром 3x3, заповніть його оберненими значеннями натуральних чисел, починаючи з 1, та виведіть його значення.\n"
      ],
      "metadata": {
        "id": "h7eQXgD8P7wc"
      }
    },
    {
      "cell_type": "code",
      "source": [
        "\n",
        "rows = 3\n",
        "cols = 3\n",
        "\n",
        "matrix = [[1 / (i * cols + j + 1) for j in range(cols)] for i in range(rows)]\n",
        "\n",
        "print(\"Матриця з оберненими значеннями натуральних чисел:\")\n",
        "for row in matrix:\n",
        "    print(row)\n"
      ],
      "metadata": {
        "colab": {
          "base_uri": "https://localhost:8080/"
        },
        "id": "2lwORiVDPiQa",
        "outputId": "c44a3723-58ad-4a13-fe6d-b719b79bf36a"
      },
      "execution_count": null,
      "outputs": [
        {
          "output_type": "stream",
          "name": "stdout",
          "text": [
            "Матриця з оберненими значеннями натуральних чисел:\n",
            "[1.0, 0.5, 0.3333333333333333]\n",
            "[0.25, 0.2, 0.16666666666666666]\n",
            "[0.14285714285714285, 0.125, 0.1111111111111111]\n"
          ]
        }
      ]
    },
    {
      "cell_type": "markdown",
      "source": [
        "Створіть масив розміром 3x3, заповніть його випадковими дійсними числами в діапазоні від -3 до 3 та знайдіть максимальний елемент.\n"
      ],
      "metadata": {
        "id": "fbLRxbjLP0M4"
      }
    },
    {
      "cell_type": "code",
      "source": [
        "import random\n",
        "\n",
        "rows = 3\n",
        "cols = 3\n",
        "\n",
        "matrix = [[random.uniform(-3, 3) for j in range(cols)] for i in range(rows)]\n",
        "\n",
        "print(\"Матриця з випадковими числами:\")\n",
        "for row in matrix:\n",
        "    print(row)\n",
        "\n",
        "max_element = max(max(row) for row in matrix)\n",
        "print(\"\\nМаксимальний елемент матриці:\", max_element)\n"
      ],
      "metadata": {
        "id": "A6lwqiCHPtam"
      },
      "execution_count": null,
      "outputs": []
    },
    {
      "cell_type": "markdown",
      "source": [
        "Створіть масив розміром 3x3, заповніть його випадковими дійсними числами в діапазоні від 0 до 1 та знайдіть вектор-стовпчик, що містить суму елементів кожного стовпця, менших за 0.5.\n"
      ],
      "metadata": {
        "id": "7cWWqKBHQNiI"
      }
    },
    {
      "cell_type": "code",
      "source": [
        "import random\n",
        "rows = 3\n",
        "cols = 3\n",
        "matrix = [[random.random() for j in range(cols)] for i in range(rows)]\n",
        "\n",
        "print(\"Матриця 3x3:\")\n",
        "for row in matrix:\n",
        "    print(row)\n",
        "\n",
        "column_sums = []\n",
        "for j in range(cols):\n",
        "    sum_col = sum(matrix[i][j] for i in range(rows) if matrix[i][j] < 0.5)\n",
        "    column_sums.append(sum_col)\n",
        "\n",
        "print(\"\\nВектор-стовпчик (сума елементів < 0.5 по стовпцях):\")\n",
        "for value in column_sums:\n",
        "    print(value)\n"
      ],
      "metadata": {
        "colab": {
          "base_uri": "https://localhost:8080/"
        },
        "id": "ariGoTP8QN7y",
        "outputId": "26e59a90-ff8e-4e14-ea32-2f35d892dd0a"
      },
      "execution_count": null,
      "outputs": [
        {
          "output_type": "stream",
          "name": "stdout",
          "text": [
            "Матриця 3x3:\n",
            "[0.41499496491201626, 0.9556027718143922, 0.20342484501530855]\n",
            "[0.42188853840430296, 0.4047365862633019, 0.4947923311760021]\n",
            "[0.03713582193726894, 0.9557603405942566, 0.6692434034750028]\n",
            "\n",
            "Вектор-стовпчик (сума елементів < 0.5 по стовпцях):\n",
            "0.8740193252535882\n",
            "0.4047365862633019\n",
            "0.6982171761913106\n"
          ]
        }
      ]
    },
    {
      "cell_type": "markdown",
      "source": [
        "Створіть два одновимірних масиви розміром 6, заповніть їх випадковими дійсними числами від -2 до 2 та виконайте на них поелементні операції додавання, віднімання та множення.\n"
      ],
      "metadata": {
        "id": "Zz8nwD2YQkCL"
      }
    },
    {
      "cell_type": "code",
      "source": [
        "import random\n",
        "\n",
        "n = 6\n",
        "array1 = [random.uniform(-2, 2) for _ in range(n)]\n",
        "array2 = [random.uniform(-2, 2) for _ in range(n)]\n",
        "\n",
        "print(\"Масив 1:\", array1)\n",
        "print(\"Масив 2:\", array2)\n",
        "\n",
        "addition = [array1[i] + array2[i] for i in range(n)]\n",
        "subtraction = [array1[i] - array2[i] for i in range(n)]\n",
        "multiplication = [array1[i] * array2[i] for i in range(n)]\n",
        "\n",
        "print(\"\\nДодавання поелементне:\", addition)\n",
        "print(\"Віднімання поелементне:\", subtraction)\n",
        "print(\"Множення поелементне:\", multiplication)\n"
      ],
      "metadata": {
        "colab": {
          "base_uri": "https://localhost:8080/"
        },
        "id": "6-olgAURQkrK",
        "outputId": "c13f1601-080b-40cd-eb9c-54d07acdfd2d"
      },
      "execution_count": null,
      "outputs": [
        {
          "output_type": "stream",
          "name": "stdout",
          "text": [
            "Масив 1: [1.6064968657740915, -1.5070474018777578, -1.6267560242837504, 0.6753476141034294, 1.8424089184309524, 0.41893504692682715]\n",
            "Масив 2: [-0.7656092421389493, 1.2579647039818824, 1.7756998307077465, 0.37244719626670664, -0.34728309149526204, -1.8856168786366516]\n",
            "\n",
            "Додавання поелементне: [0.8408876236351421, -0.24908269789587534, 0.14894380642399607, 1.047794810370136, 1.4951258269356904, -1.4666818317098245]\n",
            "Віднімання поелементне: [2.3721061079130408, -2.76501210585964, -3.402455854991497, 0.3029004178367227, 2.1896920099262145, 2.3045519255634788]\n",
            "Множення поелементне: [-1.2299488479038996, -1.8958124387898185, -2.8886303969234626, 0.25153132537823203, -0.6398374649911432, -0.789950995537663]\n"
          ]
        }
      ]
    },
    {
      "cell_type": "markdown",
      "source": [
        "Створіть дві матриці 4x4, заповніть їх довільними цілими числами від 1\tдо 5 та знайдіть їх добуток.\n"
      ],
      "metadata": {
        "id": "BN45z02OQqBn"
      }
    },
    {
      "cell_type": "code",
      "source": [
        "import random\n",
        "\n",
        "rows, cols = 4, 4\n",
        "\n",
        "matrix1 = [[random.randint(1, 5) for j in range(cols)] for i in range(rows)]\n",
        "matrix2 = [[random.randint(1, 5) for j in range(cols)] for i in range(rows)]\n",
        "\n",
        "print(\"Матриця 1:\")\n",
        "for row in matrix1:\n",
        "    print(row)\n",
        "\n",
        "print(\"\\nМатриця 2:\")\n",
        "for row in matrix2:\n",
        "    print(row)\n",
        "\n",
        "product = [[0 for j in range(cols)] for i in range(rows)]\n",
        "for i in range(rows):\n",
        "    for j in range(cols):\n",
        "        for k in range(cols):\n",
        "            product[i][j] += matrix1[i][k] * matrix2[k][j]\n",
        "\n",
        "print(\"\\nДобуток матриць:\")\n",
        "for row in product:\n",
        "    print(row)\n"
      ],
      "metadata": {
        "colab": {
          "base_uri": "https://localhost:8080/"
        },
        "id": "ypnAYj9lQuEa",
        "outputId": "bcf2779a-7284-4acd-a732-d0d99d81c8f0"
      },
      "execution_count": null,
      "outputs": [
        {
          "output_type": "stream",
          "name": "stdout",
          "text": [
            "Матриця 1:\n",
            "[5, 3, 4, 4]\n",
            "[4, 5, 3, 4]\n",
            "[2, 2, 1, 2]\n",
            "[3, 1, 5, 5]\n",
            "\n",
            "Матриця 2:\n",
            "[2, 3, 4, 1]\n",
            "[4, 1, 1, 2]\n",
            "[4, 4, 1, 1]\n",
            "[2, 5, 3, 1]\n",
            "\n",
            "Добуток матриць:\n",
            "[46, 54, 39, 19]\n",
            "[48, 49, 36, 21]\n",
            "[20, 22, 17, 9]\n",
            "[40, 55, 33, 15]\n"
          ]
        }
      ]
    },
    {
      "cell_type": "markdown",
      "source": [
        "Створіть дві матриці розміром 3x2 та 2x2, заповніть їх випадковими цілими числами в діапазоні від 1 до 8 та перемножте їх між собою.\n"
      ],
      "metadata": {
        "id": "RhwOC4j9QydF"
      }
    },
    {
      "cell_type": "code",
      "source": [
        "import random\n",
        "\n",
        "matrix1 = [[random.randint(1, 8) for j in range(2)] for i in range(3)]\n",
        "matrix2 = [[random.randint(1, 8) for j in range(2)] for i in range(2)]\n",
        "\n",
        "print(\"Матриця 1:\")\n",
        "for row in matrix1:\n",
        "    print(row)\n",
        "\n",
        "print(\"\\nМатриця 2:\")\n",
        "for row in matrix2:\n",
        "    print(row)\n",
        "\n",
        "product = [[0 for j in range(2)] for i in range(3)]\n",
        "for i in range(3):\n",
        "    for j in range(2):\n",
        "        for k in range(2):\n",
        "            product[i][j] += matrix1[i][k] * matrix2[k][j]\n",
        "\n",
        "print(\"\\nДобуток матриць:\")\n",
        "for row in product:\n",
        "    print(row)\n"
      ],
      "metadata": {
        "colab": {
          "base_uri": "https://localhost:8080/"
        },
        "id": "7zhc70c_Q2oy",
        "outputId": "27b2268e-07d9-4dbc-f0e8-10ea5119fe10"
      },
      "execution_count": null,
      "outputs": [
        {
          "output_type": "stream",
          "name": "stdout",
          "text": [
            "Матриця 1:\n",
            "[6, 8]\n",
            "[2, 4]\n",
            "[5, 5]\n",
            "\n",
            "Матриця 2:\n",
            "[6, 8]\n",
            "[6, 3]\n",
            "\n",
            "Добуток матриць:\n",
            "[84, 72]\n",
            "[36, 28]\n",
            "[60, 55]\n"
          ]
        }
      ]
    },
    {
      "cell_type": "markdown",
      "source": [
        "Створіть матрицю розміром 2x2, заповніть її випадковими цілими числами в діапазоні від 1 до 15 та знайдіть її обернену матрицю."
      ],
      "metadata": {
        "id": "2J0mxeKkQ4UJ"
      }
    },
    {
      "cell_type": "code",
      "source": [
        "import random\n",
        "\n",
        "matrix = [[random.randint(1, 15) for j in range(2)] for i in range(2)]\n",
        "\n",
        "print(\"Матриця 2x2:\")\n",
        "for row in matrix:\n",
        "    print(row)\n",
        "\n",
        "det = matrix[0][0]*matrix[1][1] - matrix[0][1]*matrix[1][0]\n",
        "\n",
        "if det != 0:\n",
        "    inverse = [[matrix[1][1]/det, -matrix[0][1]/det],\n",
        "               [-matrix[1][0]/det, matrix[0][0]/det]]\n",
        "    print(\"\\nОбернена матриця:\")\n",
        "    for row in inverse:\n",
        "        print(row)\n",
        "else:\n",
        "    print(\"\\nМатриця не має оберненої, визначник = 0\")\n"
      ],
      "metadata": {
        "colab": {
          "base_uri": "https://localhost:8080/"
        },
        "id": "XpEZJQd1Q8L0",
        "outputId": "97089a1f-77b9-41d5-af5f-a5c302524731"
      },
      "execution_count": null,
      "outputs": [
        {
          "output_type": "stream",
          "name": "stdout",
          "text": [
            "Матриця 2x2:\n",
            "[2, 7]\n",
            "[11, 4]\n",
            "\n",
            "Обернена матриця:\n",
            "[-0.057971014492753624, 0.10144927536231885]\n",
            "[0.15942028985507245, -0.028985507246376812]\n"
          ]
        }
      ]
    },
    {
      "cell_type": "markdown",
      "source": [
        "Створіть матрицю розміром 7x3, заповніть її випадковими дійсними числами в діапазоні від 0 до 1 та транспонуйте її.\n"
      ],
      "metadata": {
        "id": "ET5poQ38RHio"
      }
    },
    {
      "cell_type": "code",
      "source": [
        "import random\n",
        "\n",
        "matrix = [[random.random() for j in range(3)] for i in range(7)]\n",
        "\n",
        "print(\"Матриця 7x3:\")\n",
        "for row in matrix:\n",
        "    print(row)\n",
        "\n",
        "transposed = [[matrix[i][j] for i in range(7)] for j in range(3)]\n",
        "\n",
        "print(\"\\nТранспонована матриця 3x7:\")\n",
        "for row in transposed:\n",
        "    print(row)\n"
      ],
      "metadata": {
        "colab": {
          "base_uri": "https://localhost:8080/"
        },
        "id": "qXuik_fkRH0W",
        "outputId": "8957a16d-abbd-43d1-8f33-c53a69ac8e40"
      },
      "execution_count": null,
      "outputs": [
        {
          "output_type": "stream",
          "name": "stdout",
          "text": [
            "Матриця 7x3:\n",
            "[0.3376852050954864, 0.5936192477591586, 0.7976166200389995]\n",
            "[0.8198315470348781, 0.8160831694893849, 0.1794787282810354]\n",
            "[0.32102147201296716, 0.8195701547427365, 0.5350352761410935]\n",
            "[0.8871758528171267, 0.3224540851870482, 0.4250003860574909]\n",
            "[0.04500054519858454, 0.16967296829682643, 0.8153143051958505]\n",
            "[0.3294812183559065, 0.12663495325270757, 0.1435249791584935]\n",
            "[0.31662366239672846, 0.8526082123023521, 0.6789252132000206]\n",
            "\n",
            "Транспонована матриця 3x7:\n",
            "[0.3376852050954864, 0.8198315470348781, 0.32102147201296716, 0.8871758528171267, 0.04500054519858454, 0.3294812183559065, 0.31662366239672846]\n",
            "[0.5936192477591586, 0.8160831694893849, 0.8195701547427365, 0.3224540851870482, 0.16967296829682643, 0.12663495325270757, 0.8526082123023521]\n",
            "[0.7976166200389995, 0.1794787282810354, 0.5350352761410935, 0.4250003860574909, 0.8153143051958505, 0.1435249791584935, 0.6789252132000206]\n"
          ]
        }
      ]
    },
    {
      "cell_type": "markdown",
      "source": [
        "Створіть матрицю розміром 3x4 та вектор розміром 4x1, заповніть матрицю випадковими цілими числами в діапазоні від 1 до 10, а вектор - випадковими дійсними числами від 0 до 1, і знайдіть добуток матриці на вектор.\n"
      ],
      "metadata": {
        "id": "577l30-aRJuh"
      }
    },
    {
      "cell_type": "code",
      "source": [
        "import numpy as np\n",
        "\n",
        "# матриця 3x4 з випадкових цілих чисел [1, 10]\n",
        "A = np.random.randint(1, 11, size=(3, 4))\n",
        "\n",
        "# вектор 4x1 з випадкових дійсних чисел [0, 1)\n",
        "b = np.random.rand(4, 1)\n",
        "\n",
        "# множення матриці на вектор\n",
        "result = A @ b   # або np.dot(A, b)\n",
        "\n",
        "print(\"Матриця A (3x4):\\n\", A)\n",
        "print(\"\\nВектор b (4x1):\\n\", b)\n",
        "print(\"\\nРезультат добутку (3x1):\\n\", result)\n"
      ],
      "metadata": {
        "colab": {
          "base_uri": "https://localhost:8080/"
        },
        "id": "FbbWPlhjeX-j",
        "outputId": "b67647ee-ee89-462f-cd12-fc7ca1fdaff1"
      },
      "execution_count": null,
      "outputs": [
        {
          "output_type": "stream",
          "name": "stdout",
          "text": [
            "Матриця A (3x4):\n",
            " [[ 4  2  3  6]\n",
            " [ 9 10 10  6]\n",
            " [ 5  1  9  9]]\n",
            "\n",
            "Вектор b (4x1):\n",
            " [[0.43432694]\n",
            " [0.29927598]\n",
            " [0.49894756]\n",
            " [0.04024656]]\n",
            "\n",
            "Результат добутку (3x1):\n",
            " [[ 4.07418177]\n",
            " [12.1326572 ]\n",
            " [ 7.3236578 ]]\n"
          ]
        }
      ]
    },
    {
      "cell_type": "markdown",
      "source": [
        "Створіть матрицю розміром 2x3 та вектор розміром 3x1, заповніть матрицю випадковими дійсними числами від 0 до 1, а вектор - випадковими дійсними числами від 0 до 1, і знайдіть добуток матриці на вектор.\n"
      ],
      "metadata": {
        "id": "wJ3PjaSceedM"
      }
    },
    {
      "cell_type": "code",
      "source": [
        "import numpy as np\n",
        "\n",
        "# матриця 2x3 з випадкових дійсних чисел [0,1)\n",
        "A = np.random.rand(2, 3)\n",
        "\n",
        "# вектор 3x1 з випадкових дійсних чисел [0,1)\n",
        "b = np.random.rand(3, 1)\n",
        "\n",
        "# добуток матриці на вектор\n",
        "result = A @ b   # або np.dot(A, b)\n",
        "\n",
        "print(\"Матриця A (2x3):\\n\", A)\n",
        "print(\"\\nВектор b (3x1):\\n\", b)\n",
        "print(\"\\nРезультат (2x1):\\n\", result)\n"
      ],
      "metadata": {
        "colab": {
          "base_uri": "https://localhost:8080/"
        },
        "id": "CBRNsf_EeiV1",
        "outputId": "d87505d3-2ae1-456a-f736-d8ad17697943"
      },
      "execution_count": null,
      "outputs": [
        {
          "output_type": "stream",
          "name": "stdout",
          "text": [
            "Матриця A (2x3):\n",
            " [[0.8688249  0.69307973 0.71675328]\n",
            " [0.29130679 0.39050969 0.77357996]]\n",
            "\n",
            "Вектор b (3x1):\n",
            " [[0.1978778 ]\n",
            " [0.72845278]\n",
            " [0.71998448]]\n",
            "\n",
            "Результат (2x1):\n",
            " [[1.19284825]\n",
            " [0.89907658]]\n"
          ]
        }
      ]
    },
    {
      "cell_type": "markdown",
      "source": [
        "Створіть дві матриці розміром 6x6, заповніть їх випадковими цілими числами в діапазоні від 1 до 10 та знайдіть їхню суму.\n"
      ],
      "metadata": {
        "id": "Bf8zyodOehqA"
      }
    },
    {
      "cell_type": "code",
      "source": [
        "import numpy as np\n",
        "\n",
        "# створюємо дві матриці 6x6\n",
        "A = np.random.randint(1, 11, size=(6, 6))\n",
        "B = np.random.randint(1, 11, size=(6, 6))\n",
        "\n",
        "# сума матриць\n",
        "C = A + B\n",
        "\n",
        "print(\"Матриця A:\\n\", A)\n",
        "print(\"\\nМатриця B:\\n\", B)\n",
        "print(\"\\nСума матриць A + B:\\n\", C)\n"
      ],
      "metadata": {
        "colab": {
          "base_uri": "https://localhost:8080/"
        },
        "id": "nzwgdfsper34",
        "outputId": "3c3c7e2d-f07c-4f73-9f97-b3bcaf0f27f7"
      },
      "execution_count": null,
      "outputs": [
        {
          "output_type": "stream",
          "name": "stdout",
          "text": [
            "Матриця A:\n",
            " [[ 2 10  6  7  5  2]\n",
            " [ 8 10 10  2  5  3]\n",
            " [ 2  1  4  5  1  3]\n",
            " [10  8  5  1  9  3]\n",
            " [10  1  7  8 10  3]\n",
            " [ 2 10  3  8  1  4]]\n",
            "\n",
            "Матриця B:\n",
            " [[ 3  4  8  1  2  2]\n",
            " [ 3  5  3  2  1  5]\n",
            " [ 5  2  1  4  9  9]\n",
            " [ 7  1  7  2  6  7]\n",
            " [ 5  4 10  9  7  8]\n",
            " [10  7  3  3  1  9]]\n",
            "\n",
            "Сума матриць A + B:\n",
            " [[ 5 14 14  8  7  4]\n",
            " [11 15 13  4  6  8]\n",
            " [ 7  3  5  9 10 12]\n",
            " [17  9 12  3 15 10]\n",
            " [15  5 17 17 17 11]\n",
            " [12 17  6 11  2 13]]\n"
          ]
        }
      ]
    },
    {
      "cell_type": "markdown",
      "source": [
        "Створіть дві матриці розміром 3x3, заповніть їх випадковими дійсними числами в діапазоні від 0 до 1 та знайдіть добуток їх елементів.\n"
      ],
      "metadata": {
        "id": "8FB9YpgYevyW"
      }
    },
    {
      "cell_type": "code",
      "source": [
        "import numpy as np\n",
        "\n",
        "# дві матриці 3x3 з випадкових дійсних чисел [0,1)\n",
        "A = np.random.rand(3, 3)\n",
        "B = np.random.rand(3, 3)\n",
        "\n",
        "# покомпонентний добуток\n",
        "C = A * B   # або np.multiply(A, B)\n",
        "\n",
        "print(\"Матриця A:\\n\", A)\n",
        "print(\"\\nМатриця B:\\n\", B)\n",
        "print(\"\\nДобуток елементів (A * B):\\n\", C)\n"
      ],
      "metadata": {
        "colab": {
          "base_uri": "https://localhost:8080/"
        },
        "id": "AYKwzGiLewLZ",
        "outputId": "abf9f162-3064-4d81-d498-f3fe1f41b3fb"
      },
      "execution_count": null,
      "outputs": [
        {
          "output_type": "stream",
          "name": "stdout",
          "text": [
            "Матриця A:\n",
            " [[0.70621392 0.62583373 0.56072884]\n",
            " [0.41730968 0.316824   0.56953883]\n",
            " [0.36496078 0.4505251  0.29518048]]\n",
            "\n",
            "Матриця B:\n",
            " [[0.78396442 0.29619008 0.56655891]\n",
            " [0.13359073 0.31001196 0.94091786]\n",
            " [0.70627262 0.53397887 0.8551246 ]]\n",
            "\n",
            "Добуток елементів (A * B):\n",
            " [[0.55364658 0.18536574 0.31768592]\n",
            " [0.0557487  0.09821923 0.53588926]\n",
            " [0.25776181 0.24057089 0.25241609]]\n"
          ]
        }
      ]
    },
    {
      "cell_type": "markdown",
      "source": [
        "Створіть матрицю розміром 3x3, заповніть її випадковими дійсними числами в діапазоні від -5 до 5 та знайдіть суму елементів матриці, які більше за їх середнє арифметичне значення.\n"
      ],
      "metadata": {
        "id": "REUhuIXXe0Zm"
      }
    },
    {
      "cell_type": "code",
      "source": [
        "import numpy as np\n",
        "\n",
        "# матриця 3x3 з випадкових дійсних чисел у [-5, 5]\n",
        "A = np.random.uniform(-5, 5, size=(3, 3))\n",
        "\n",
        "# середнє арифметичне\n",
        "mean_val = np.mean(A)\n",
        "\n",
        "# елементи, більші за середнє\n",
        "greater_elements = A[A > mean_val]\n",
        "\n",
        "# їх сума\n",
        "result = np.sum(greater_elements)\n",
        "\n",
        "print(\"Матриця A:\\n\", A)\n",
        "print(\"\\nСереднє арифметичне:\", mean_val)\n",
        "print(\"\\nЕлементи більші за середнє:\\n\", greater_elements)\n",
        "print(\"\\nСума цих елементів:\", result)\n"
      ],
      "metadata": {
        "colab": {
          "base_uri": "https://localhost:8080/"
        },
        "id": "DOCrmK_je0xV",
        "outputId": "a037a46a-d266-4202-e1d2-b053501206d1"
      },
      "execution_count": null,
      "outputs": [
        {
          "output_type": "stream",
          "name": "stdout",
          "text": [
            "Матриця A:\n",
            " [[-4.7292703  -4.14666468 -0.90818013]\n",
            " [-3.3631242  -0.79138954  0.3082406 ]\n",
            " [-3.29910356  1.43296614 -4.24401178]]\n",
            "\n",
            "Середнє арифметичне: -2.19339304958056\n",
            "\n",
            "Елементи більші за середнє:\n",
            " [-0.90818013 -0.79138954  0.3082406   1.43296614]\n",
            "\n",
            "Сума цих елементів: 0.041637071315845375\n"
          ]
        }
      ]
    },
    {
      "cell_type": "markdown",
      "source": [
        "Створіть матрицю розміром 3x3, заповніть її випадковими дійсними числами в діапазоні від 0 до 1 та знайдіть вектор-стовпчик, що містить найменше ціле значення в кожному рядку матриці.\n"
      ],
      "metadata": {
        "id": "IRnvbYwse6OP"
      }
    },
    {
      "cell_type": "code",
      "source": [
        "import numpy as np\n",
        "\n",
        "# матриця 3x3 з випадкових дійсних чисел [0,1)\n",
        "A = np.random.rand(3, 3)\n",
        "\n",
        "# мінімальні значення в кожному рядку\n",
        "row_min = np.min(A, axis=1)\n",
        "\n",
        "# беремо цілі частини\n",
        "row_min_int = np.floor(row_min).astype(int)\n",
        "\n",
        "# робимо вектор-стовпчик\n",
        "vector_col = row_min_int.reshape(-1, 1)\n",
        "\n",
        "print(\"Матриця A:\\n\", A)\n",
        "print(\"\\nМінімальні значення по рядках:\", row_min)\n",
        "print(\"\\nЦілі частини мінімальних значень:\", row_min_int)\n",
        "print(\"\\nВектор-стовпчик:\\n\", vector_col)\n"
      ],
      "metadata": {
        "colab": {
          "base_uri": "https://localhost:8080/"
        },
        "id": "qnMe1xgie6pB",
        "outputId": "1b6d4e5d-e495-4b72-e5a1-ca7d399038fa"
      },
      "execution_count": null,
      "outputs": [
        {
          "output_type": "stream",
          "name": "stdout",
          "text": [
            "Матриця A:\n",
            " [[0.67111047 0.94278588 0.32769883]\n",
            " [0.10183995 0.01807877 0.47152937]\n",
            " [0.36533918 0.88381054 0.21188606]]\n",
            "\n",
            "Мінімальні значення по рядках: [0.32769883 0.01807877 0.21188606]\n",
            "\n",
            "Цілі частини мінімальних значень: [0 0 0]\n",
            "\n",
            "Вектор-стовпчик:\n",
            " [[0]\n",
            " [0]\n",
            " [0]]\n"
          ]
        }
      ]
    }
  ]
}